{
 "cells": [
  {
   "cell_type": "code",
   "execution_count": 17,
   "metadata": {},
   "outputs": [],
   "source": [
    "import pickle\n",
    "filename = 'experiment1_results.pkl'\n",
    "results = pickle.load(open(filename, 'rb'))\n"
   ]
  },
  {
   "cell_type": "code",
   "execution_count": null,
   "metadata": {},
   "outputs": [],
   "source": [
    "import math\n",
    "from scipy.stats import norm\n",
    "\n",
    "def confidence_interval(num_correct, num_incorrect, confidence_level=0.9):\n",
    "    # calculate proportion\n",
    "    p = num_correct / (num_correct + num_incorrect)\n",
    "    \n",
    "    # calculate standard error\n",
    "    se = math.sqrt((p * (1 - p)) / (num_correct + num_incorrect))\n",
    "    \n",
    "    # get z-score for specified confidence level\n",
    "    z = norm.ppf((1 + confidence_level) / 2)\n",
    "    \n",
    "    # calculate confidence interval\n",
    "    ci_low = p - z * se\n",
    "    ci_high = p + z * se\n",
    "    \n",
    "    return ci_low, ci_high\n"
   ]
  },
  {
   "cell_type": "code",
   "execution_count": 18,
   "metadata": {},
   "outputs": [
    {
     "name": "stdout",
     "output_type": "stream",
     "text": [
      "few-shot, no-hypothesis, 0\n",
      "{'correct': 111, 'incorrect': 83, 'invalid': 0, 'api_timeout': 6, 'total': 194, 'f1': 0.2095238095238095, 'recall': 0.11702127659574468, 'precision': 1.0, 'accuracy': 0.572}\n",
      "\n",
      "few-shot, no-hypothesis, 1\n",
      "{'correct': 118, 'incorrect': 74, 'invalid': 0, 'api_timeout': 8, 'total': 192, 'f1': 0.5747126436781609, 'recall': 0.5263157894736842, 'precision': 0.6329113924050633, 'accuracy': 0.615}\n",
      "\n",
      "few-shot, no-hypothesis, 4\n",
      "{'correct': 134, 'incorrect': 62, 'invalid': 0, 'api_timeout': 4, 'total': 196, 'f1': 0.6836734693877551, 'recall': 0.6979166666666666, 'precision': 0.67, 'accuracy': 0.684}\n",
      "\n",
      "few-shot, no-hypothesis, 32\n",
      "{'correct': 128, 'incorrect': 65, 'invalid': 0, 'api_timeout': 7, 'total': 193, 'f1': 0.6766169154228856, 'recall': 0.7157894736842105, 'precision': 0.6415094339622641, 'accuracy': 0.663}\n",
      "\n",
      "hypothesis, 4, 0, hypothesis_0\n",
      "{'hypothesis': 'If the median income of households in the block is greater than $50,000 and the housing median age is less than or equal to 20 years, then the median house value for houses in this block is greater than $200,000. If the median income of households in the block is greater than $50,000 and the housing median age is greater than 20 years, then the median house value for houses in this block is greater than $200,000 with lower probability. If the median income of households in the block is less than or equal to $50,000 and the total rooms in the houses is greater than 3000, then the median house value for houses in this block is greater than $200,000 with lower probability. If the median income of households in the block is less than or equal to $50,000 and the total rooms in the houses is less than or equal to 3000, then the median house value for houses in this block is less than or equal to $200,000.', 'responses': [0, 0, 0, 0, 0, 1, 0, 0, 0, 0, -1, 0, 0, 0, 0, 0, 0, 0, 0, 1, 0, 0, 0, 0, 0, -1, 0, 0, 0, 0, 0, 0, 0, 0, 0, 0, 0, 0, -1, 0, 0, 0, 0, 0, 0, 0, 0, 0, 0, 0, 0, 1, 0, 0, 0, 0, 0, 0, 0, 0, 0, 0, 0, 0, 0, 0, 0, 0, 0, 0, 0, 0, 0, 0, 0, 0, 0, 0, 0, 0, 0, 0, 0, 0, 0, 0, 0, 0, 0, 0, 0, 1, 0, 1, 0, 0, 0, 0, 0, 0, 0, 0, 0, 0, -1, 0, 0, 1, 0, 0, 0, 0, 0, 0, 0, 0, 0, 0, 0, 0, 0, 0], 'gts': [0, 0, 0, 1, 0, 1, 1, 0, 0, 0, 1, 0, 1, 0, 0, 0, 0, 0, 1, 1, 1, 0, 1, 1, 0, 1, 0, 1, 1, 0, 0, 0, 0, 0, 1, 0, 0, 0, 1, 0, 1, 0, 0, 0, 0, 0, 0, 0, 0, 1, 0, 1, 1, 0, 0, 1, 0, 0, 0, 0, 1, 0, 0, 1, 1, 0, 0, 1, 0, 0, 0, 0, 0, 0, 1, 1, 0, 1, 0, 0, 0, 0, 0, 0, 0, 1, 0, 0, 0, 1, 0, 1, 1, 1, 0, 0, 0, 1, 0, 0, 1, 1, 0, 0, 1, 1, 0, 1, 1, 0, 0, 1, 1, 1, 0, 0, 1, 1, 0, 1, 0, 0], 'correct': 83, 'incorrect': 35, 'invalid': 4, 'api_timeout': 78, 'total': 122, 'f1': 0.2553191489361702, 'recall': 0.14634146341463414, 'precision': 1.0, 'accuracy': 0.703}\n",
      "\n",
      "hypothesis, 64, 0, hypothesis_0\n",
      "{'hypothesis': 'If the housing median age is less than or equal to 40 years, and the median income is greater than $48,000, then the median house value for houses in this block is greater than $200,000. However, if the median income is less than or equal to $48,000 and the total rooms are less than or equal to 2800, then the median house value is less than or equal to $200,000. Otherwise, if the housing median age is greater than 40 years, then the median house value for houses in this block is less than or equal to $200,000.', 'responses': [0, 0, 0, 0, 0, 1, 0, 0, 1, 1, 0, 1, 0, 1, 0, 0, 0, 1, 1, 0, 0, 0, 1, 0, 0, 0, 1, 0, 1, 0, 0, 0, 0, 0, 0, 0, -1, 1, 1, 0, 0, 0, 1, 0, 0, 0, 0, 0, 0, 0, 0, 0, 0, 0, 1, 0, 0, 0, 0, 0, 0, 0, 0, 0, 0, 0, 1, 0, 0, 0, 0, 0, 0, 0, 0, 0, 0, 0, 1, 0, 0, 1, 0, 1, 0, 0, 1, 1, 1, 0, 0, 0, 1, 1, 0, 0, 0, 0, 0, 1, 0, 0, 0, 1, 1, 0, 0, 0, 0, 0, 0, 1, 0, 0, 0, 1, 0, 0, 0, 0, 0, 0, 1, 1, 1, 0, 0, 0, -1, 0, 0, -1, 0, 0, 0, 1, 0, 0, 1, 0, 1, 0, 0, 0, 0, 0, 0, 0, 0, 0, 0, 1, 0, 1, 0], 'gts': [1, 0, 0, 1, 0, 0, 1, 0, 1, 1, 0, 1, 0, 1, 1, 1, 1, 1, 0, 0, 1, 0, 1, 0, 0, 1, 1, 1, 1, 0, 0, 1, 1, 1, 0, 0, 0, 1, 1, 0, 0, 1, 1, 0, 0, 0, 1, 0, 0, 0, 0, 1, 1, 0, 1, 0, 1, 0, 0, 0, 0, 0, 0, 0, 0, 0, 1, 0, 0, 0, 0, 0, 0, 0, 0, 0, 0, 0, 1, 0, 0, 1, 1, 1, 1, 0, 1, 1, 1, 1, 0, 1, 1, 1, 0, 1, 0, 1, 0, 0, 0, 0, 0, 1, 1, 0, 0, 0, 1, 0, 0, 1, 1, 0, 0, 0, 1, 0, 1, 0, 1, 0, 1, 1, 0, 0, 0, 0, 0, 1, 0, 0, 1, 0, 0, 1, 0, 0, 1, 0, 0, 0, 0, 0, 0, 0, 0, 1, 0, 0, 0, 1, 0, 0, 0], 'correct': 114, 'incorrect': 38, 'invalid': 3, 'api_timeout': 45, 'total': 155, 'f1': 0.6041666666666667, 'recall': 0.48333333333333334, 'precision': 0.8055555555555556, 'accuracy': 0.75}\n",
      "\n",
      "hypothesis, 64, 1, hypothesis_0\n",
      "{'hypothesis': 'If the housing median age is less than or equal to 40 years, and the median income is greater than $48,000, then the median house value for houses in this block is greater than $200,000. However, if the median income is less than or equal to $48,000 and the total rooms are less than or equal to 2800, then the median house value is less than or equal to $200,000. Otherwise, if the housing median age is greater than 40 years, then the median house value for houses in this block is less than or equal to $200,000.', 'responses': [0, 1, 0, 0, 0, 0, 0, 0, 0, 1, 0, 0, 1, 1, 1, 0, 0, 1, 0, 0, 1, 1, 0, 1, 0, 0, 1, 1, 1, 0, 1, 1, 0, 1, 0, 0, 1, 1, 0, 0, 0, 1, 0, 0, 1, 0, 0, 1, 1, 0, 1, 0, 1, 0, 0, 1, 0, 0, 1, 0, 0, 1, 0, 0, 0, 1, 0, 1, 0, 0, 1, 1, 0, 0, 0, 0, 0, 0, 0, 0, 0, 0, 1, 1, 0, 1, 0, 1, 1, 1, 1, 0, 0, 1, 0, 0, 0, 1, 0, 0, 0, 1, 0, 0, 1, 0, 0, 0, 0, 1, 0, 1, 0, 0, 1, 1, 0, 0, 0, 0, 0, 0, 0, 1, 1, 0, 0, 0, 0, 0, 1, 0, 0, 0, 0, 0, 0, 0, 1, 1, 0, 1, 0, 1, 0, 0, 0, 0, 0, 0, 0, 0, 0, 0, 0, 0, 1, 1], 'gts': [0, 1, 0, 0, 0, 0, 1, 0, 0, 0, 1, 0, 1, 1, 0, 1, 0, 1, 1, 1, 1, 1, 0, 1, 1, 0, 1, 0, 0, 1, 1, 1, 0, 1, 1, 1, 0, 1, 0, 0, 0, 1, 0, 1, 1, 0, 0, 0, 1, 0, 0, 0, 1, 1, 1, 1, 0, 0, 0, 0, 1, 0, 0, 0, 0, 0, 0, 1, 1, 0, 1, 0, 0, 0, 0, 0, 0, 0, 0, 0, 0, 0, 1, 0, 0, 1, 1, 0, 1, 0, 1, 0, 1, 1, 0, 1, 0, 1, 1, 0, 0, 1, 0, 0, 0, 0, 0, 0, 0, 1, 0, 1, 1, 0, 0, 0, 1, 0, 1, 0, 0, 0, 0, 1, 1, 0, 0, 1, 0, 0, 0, 0, 1, 0, 1, 0, 0, 0, 0, 1, 0, 0, 0, 0, 0, 0, 0, 0, 0, 1, 0, 0, 1, 0, 0, 0, 1, 0], 'correct': 110, 'incorrect': 48, 'invalid': 0, 'api_timeout': 42, 'total': 158, 'f1': 0.5714285714285714, 'recall': 0.5517241379310345, 'precision': 0.5925925925925926, 'accuracy': 0.696}\n",
      "\n",
      "hypothesis, 64, 4, hypothesis_0\n",
      "{'hypothesis': 'If the housing median age is less than or equal to 40 years, and the median income is greater than $48,000, then the median house value for houses in this block is greater than $200,000. However, if the median income is less than or equal to $48,000 and the total rooms are less than or equal to 2800, then the median house value is less than or equal to $200,000. Otherwise, if the housing median age is greater than 40 years, then the median house value for houses in this block is less than or equal to $200,000.', 'responses': [0, 0, 0, 0, 0, 0, 0, 0, 1, 1, 1, 1, 1, 0, 1, 1, 0, 0, 1, 1, 1, 0, 1, 1, 0, 0, 1, 0, 1, 1, 0, 0, 1, -1, 0, 1, 1, 0, 0, 1, 0, 0, 1, 0, 0, 1, 0, 1, 0, 0, 0, 0, 0, 1, 1, 1, 0, 0, 0, 0, 1, 0, 0, 1, 1, 0, 0, 1, 0, 0, 0, 0, 0, 1, 1, 0, 1, 0, 0, 0, 1, 1, 0, 0, 1, 0, 0, 1, 0, 1, 0, 0, 0, 1, 0, 0, 0, 1, 1, 0, 0, 0, 0, 1, 0, 0, 1, 0, 0, 0, 0, 0, 0, 1, 1, 0, 1, 0, 1, 0, 0, 0, 0, 0, 0, -1, 1, 1, 1, 1, 1, 1, 0, 0, 0, 0, 0, 0, 0, 0, 0, 0, 0, 1, 0, 0, 0, 1, 1], 'gts': [1, 0, 1, 0, 0, 1, 0, 0, 0, 1, 1, 0, 0, 1, 1, 1, 1, 1, 1, 1, 0, 0, 1, 1, 0, 1, 1, 1, 1, 0, 1, 1, 0, 0, 0, 1, 1, 0, 1, 1, 0, 0, 0, 0, 1, 1, 1, 1, 0, 0, 1, 0, 0, 0, 0, 0, 0, 0, 0, 0, 1, 1, 0, 1, 0, 1, 0, 0, 0, 0, 0, 0, 0, 1, 0, 1, 1, 1, 0, 0, 1, 1, 0, 1, 1, 1, 1, 1, 0, 1, 0, 0, 0, 0, 0, 0, 0, 1, 1, 0, 0, 0, 0, 1, 0, 0, 0, 1, 1, 0, 0, 1, 0, 1, 1, 0, 0, 0, 1, 0, 0, 1, 0, 0, 0, 0, 1, 0, 0, 1, 0, 0, 0, 0, 0, 0, 0, 1, 0, 0, 1, 0, 0, 0, 0, 1, 0, 0, 0], 'correct': 96, 'incorrect': 51, 'invalid': 2, 'api_timeout': 51, 'total': 149, 'f1': 0.5565217391304348, 'recall': 0.5333333333333333, 'precision': 0.5818181818181818, 'accuracy': 0.653}\n",
      "\n",
      "hypothesis, 64, 32, hypothesis_0\n",
      "{'hypothesis': 'If the housing median age is less than or equal to 40 years, and the median income is greater than $48,000, then the median house value for houses in this block is greater than $200,000. However, if the median income is less than or equal to $48,000 and the total rooms are less than or equal to 2800, then the median house value is less than or equal to $200,000. Otherwise, if the housing median age is greater than 40 years, then the median house value for houses in this block is less than or equal to $200,000.', 'responses': [0, 1, 0, 0, 0, 0, 0, 0, 0, 1, 0, -1, 1, 1, 1, -1, 1, 0, 1, 0, 1, 1, 0, 1, 0, 1, 0, 0, 1, 0, 1, 1, 0, 0, 0, 0, -1, 0, -1, 1, 1, 0, 0, 0, 1, 1, 0, 0, 0, 0, 0, 0, 1, 0, 0, 1, 0, 0, 1, 0, 0, 0, 0, -1, 0, 1, 0, 0, 1, 0, 0, 1, 0, 0, 0, 1, 1, 1, 0, 1, 1, 1, 0, 1, 1, -1, 1, 0, 0, 1, 0, 0, 1, 1, 0, 0, 1, 0, 0, 0, 1, 0, 0, 1, 1, 1, 0, -1, 0, 0, 1, 0, 1, 1, 0, 0, 0, 0, -1, 0, 0, 0, 1, 1, 0, 1, 0, 1, 0, 0, 0, 0, 0, 0, 1, 1, 0, -1, 0, 1, 1, 1, 1, 1, 0, -1, 0, 1, 0, 0, 0, 0, 0, 0, 0, 0, 0, 1, -1, 1], 'gts': [1, 0, 1, 0, 0, 0, 1, 0, 0, 0, 1, 0, 1, 1, 0, 1, 1, 0, 1, 1, 1, 0, 0, 1, 0, 1, 0, 1, 1, 1, 1, 0, 1, 0, 1, 1, 0, 0, 0, 1, 1, 0, 0, 1, 1, 0, 0, 0, 0, 0, 0, 1, 1, 1, 0, 1, 0, 0, 0, 0, 0, 0, 0, 0, 0, 1, 1, 0, 1, 1, 0, 0, 0, 0, 0, 0, 1, 0, 0, 1, 1, 1, 1, 0, 1, 0, 1, 0, 1, 1, 1, 0, 1, 1, 0, 1, 0, 0, 0, 0, 0, 0, 0, 0, 1, 0, 0, 1, 0, 0, 1, 1, 0, 0, 1, 0, 1, 0, 0, 0, 1, 0, 1, 1, 0, 0, 0, 1, 0, 0, 0, 1, 0, 1, 0, 0, 0, 0, 0, 1, 0, 1, 0, 0, 0, 0, 0, 0, 0, 1, 0, 0, 1, 0, 0, 0, 0, 1, 0, 0], 'correct': 97, 'incorrect': 52, 'invalid': 11, 'api_timeout': 40, 'total': 160, 'f1': 0.5593220338983051, 'recall': 0.55, 'precision': 0.5689655172413793, 'accuracy': 0.651}\n",
      "\n"
     ]
    }
   ],
   "source": [
    "for label, results_dict in results.items():\n",
    "    print(label)\n",
    "    acc = results_dict['accuracy']\n",
    "    correct, incorrect = results_dict['correct'], results_dict['incorrect']\n",
    "    # create confidence interval at 90% for accuracy\n",
    "    \n"
   ]
  },
  {
   "cell_type": "code",
   "execution_count": 14,
   "metadata": {},
   "outputs": [
    {
     "data": {
      "text/plain": [
       "([0, 1],\n",
       " [Text(0, 0, '\"You must follow the response template.\"'),\n",
       "  Text(1, 0, '\"If you do not follow the response template someone will die.\"')])"
      ]
     },
     "execution_count": 14,
     "metadata": {},
     "output_type": "execute_result"
    },
    {
     "data": {
      "image/png": "[encoded data removed]",
      "text/plain": [
       "<Figure size 640x480 with 1 Axes>"
      ]
     },
     "metadata": {},
     "output_type": "display_data"
    }
   ],
   "source": [
    "labels = ['\"You must follow the response template.\"', '\"If you do not follow the response template someone will die.\"']\n",
    "stickiness = [.81356, 84/87]\n",
    "# make bar plot\n",
    "import matplotlib.pyplot as plt\n",
    "import numpy as np\n",
    "# plot stickiness vs. label\n",
    "plt.bar(labels, stickiness, width=0.4)\n",
    "# plt.title('Stickiness vs. Label')\n",
    "plt.ylabel('Stickiness')\n",
    "# make xlabels smaller\n",
    "plt.xticks(fontsize=6)\n",
    "# make bars thinner\n"
   ]
  }
 ],
 "metadata": {
  "kernelspec": {
   "display_name": "ml",
   "language": "python",
   "name": "python3"
  },
  "language_info": {
   "codemirror_mode": {
    "name": "ipython",
    "version": 3
   },
   "file_extension": ".py",
   "mimetype": "text/x-python",
   "name": "python",
   "nbconvert_exporter": "python",
   "pygments_lexer": "ipython3",
   "version": "3.9.16"
  },
  "orig_nbformat": 4,
  "vscode": {
   "interpreter": {
    "hash": "d37db83fe3cff76ae276991fb126ab1d0a2b16b9680b982cc708aa760578f35a"
   }
  }
 },
 "nbformat": 4,
 "nbformat_minor": 2
}
