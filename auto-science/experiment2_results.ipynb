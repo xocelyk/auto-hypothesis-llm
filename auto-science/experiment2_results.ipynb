{
 "cells": [
  {
   "cell_type": "code",
   "execution_count": 5,
   "metadata": {},
   "outputs": [
    {
     "name": "stdout",
     "output_type": "stream",
     "text": [
      "results_hypothesis_shots_64_icl_shots_0_hypothesis_num_3_20230720-121543.pkl\n",
      "acc: 0.641 correct: 319 incorrect: 179 invalid: 2 total: 500\n",
      "\n",
      "results_hypothesis_shots_64_icl_shots_0_hypothesis_num_0_20230720-072333.pkl\n",
      "acc: 0.604 correct: 301 incorrect: 197 invalid: 2 total: 500\n",
      "\n",
      "results_hypothesis_shots_4_icl_shots_0_hypothesis_num_2_20230720-014825.pkl\n",
      "acc: 0.629 correct: 312 incorrect: 184 invalid: 4 total: 500\n",
      "\n",
      "results_hypothesis_shots_4_icl_shots_0_hypothesis_num_1_20230720-005620.pkl\n",
      "acc: 0.545 correct: 271 incorrect: 226 invalid: 3 total: 500\n",
      "\n",
      "results_hypothesis_shots_64_icl_shots_0_hypothesis_num_0_20230719-191637.pkl\n",
      "acc: 0.62 correct: 310 incorrect: 190 invalid: 0 total: 500\n",
      "\n",
      "results_hypothesis_shots_1_icl_shots_0_hypothesis_num_0_20230720-131125.pkl\n",
      "acc: 0.527 correct: 263 incorrect: 236 invalid: 1 total: 500\n",
      "\n",
      "results_hypothesis_shots_4_icl_shots_0_hypothesis_num_0_20230720-000817.pkl\n",
      "acc: 0.565 correct: 280 incorrect: 216 invalid: 4 total: 500\n",
      "\n",
      "results_hypothesis_shots_16_icl_shots_0_hypothesis_num_0_20230720-034113.pkl\n",
      "acc: 0.592 correct: 296 incorrect: 204 invalid: 0 total: 500\n",
      "\n",
      "results_hypothesis_shots_4_icl_shots_0_hypothesis_num_3_20230720-024350.pkl\n",
      "acc: 0.536 correct: 268 incorrect: 232 invalid: 0 total: 500\n",
      "\n",
      "results_hypothesis_shots_64_icl_shots_0_hypothesis_num_1_20230720-082905.pkl\n",
      "acc: 0.562 correct: 281 incorrect: 219 invalid: 0 total: 500\n",
      "\n",
      "results_hypothesis_shots_16_icl_shots_0_hypothesis_num_3_20230720-062902.pkl\n",
      "acc: 0.589 correct: 288 incorrect: 201 invalid: 11 total: 500\n",
      "\n",
      "results_hypothesis_shots_16_icl_shots_0_hypothesis_num_2_20230720-053249.pkl\n",
      "acc: 0.664 correct: 332 incorrect: 168 invalid: 0 total: 500\n",
      "\n",
      "results_hypothesis_shots_64_icl_shots_0_hypothesis_num_2_20230720-092547.pkl\n",
      "acc: 0.597 correct: 298 incorrect: 201 invalid: 1 total: 500\n",
      "\n",
      "results_hypothesis_shots_16_icl_shots_0_hypothesis_num_1_20230720-043107.pkl\n",
      "acc: 0.593 correct: 296 incorrect: 203 invalid: 1 total: 500\n",
      "\n"
     ]
    }
   ],
   "source": [
    "import pickle\n",
    "import os\n",
    "dir = 'data/experiment2/'\n",
    "# get all files that begin with 'results_hypothesis'\n",
    "\n",
    "for filename in os.listdir(dir):\n",
    "    if filename.startswith('results_hypothesis'):\n",
    "        data = pickle.load(open(dir + filename, 'rb'))\n",
    "        print(filename)\n",
    "        print('acc:', round(data['correct'] / (data['correct'] + data['incorrect']), 3), 'correct:', data['correct'], 'incorrect:', data['incorrect'], 'invalid:', data['invalid'], 'total:', data['total'])\n",
    "        print()\n",
    "\n",
    "\n"
   ]
  }
 ],
 "metadata": {
  "kernelspec": {
   "display_name": "Python 3",
   "language": "python",
   "name": "python3"
  },
  "language_info": {
   "codemirror_mode": {
    "name": "ipython",
    "version": 3
   },
   "file_extension": ".py",
   "mimetype": "text/x-python",
   "name": "python",
   "nbconvert_exporter": "python",
   "pygments_lexer": "ipython3",
   "version": "3.11.1"
  },
  "orig_nbformat": 4,
  "vscode": {
   "interpreter": {
    "hash": "aee8b7b246df8f9039afb4144a1f6fd8d2ca17a180786b69acc140d282b71a49"
   }
  }
 },
 "nbformat": 4,
 "nbformat_minor": 2
}
